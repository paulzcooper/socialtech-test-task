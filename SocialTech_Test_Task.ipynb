{
 "cells": [
  {
   "attachments": {},
   "cell_type": "markdown",
   "metadata": {
    "id": "YPYpkgdUzBJO",
    "pycharm": {
     "name": "#%% md\n"
    }
   },
   "source": [
    "# SocialTech Test task for Data Analyst position\n"
   ]
  },
  {
   "cell_type": "markdown",
   "metadata": {
    "id": "Gh-z4fL0y8MV",
    "pycharm": {
     "name": "#%% md\n"
    }
   },
   "source": [
    "## Task 1"
   ]
  },
  {
   "cell_type": "code",
   "execution_count": null,
   "metadata": {
    "id": "FNeaH6pUOXPR",
    "pycharm": {
     "name": "#%%\n"
    }
   },
   "outputs": [],
   "source": [
    "from datetime import date\n",
    "import pandas as pd\n",
    "import numpy as np\n",
    "from scipy.stats import norm\n",
    "from statsmodels.stats.proportion import proportions_ztest\n",
    "import math"
   ]
  },
  {
   "cell_type": "code",
   "execution_count": null,
   "metadata": {
    "id": "e9F_vTa-Otev",
    "pycharm": {
     "name": "#%%\n"
    }
   },
   "outputs": [],
   "source": [
    "df = pd.read_csv('/content/drive/MyDrive/SocialTech_Test_task/raw_data.csv')"
   ]
  },
  {
   "cell_type": "code",
   "execution_count": null,
   "metadata": {
    "colab": {
     "base_uri": "https://localhost:8080/",
     "height": 300
    },
    "id": "dh-lrxo0Bxn0",
    "outputId": "611056b4-90f2-46bb-b2ab-0bad033cb9c2",
    "pycharm": {
     "name": "#%%\n"
    }
   },
   "outputs": [
    {
     "data": {
      "text/html": [
       "\n",
       "  <div id=\"df-77a2a0f3-fffa-41f9-9e6b-975baad0b26b\">\n",
       "    <div class=\"colab-df-container\">\n",
       "      <div>\n",
       "<style scoped>\n",
       "    .dataframe tbody tr th:only-of-type {\n",
       "        vertical-align: middle;\n",
       "    }\n",
       "\n",
       "    .dataframe tbody tr th {\n",
       "        vertical-align: top;\n",
       "    }\n",
       "\n",
       "    .dataframe thead th {\n",
       "        text-align: right;\n",
       "    }\n",
       "</style>\n",
       "<table border=\"1\" class=\"dataframe\">\n",
       "  <thead>\n",
       "    <tr style=\"text-align: right;\">\n",
       "      <th></th>\n",
       "      <th>country_group</th>\n",
       "      <th>age_group</th>\n",
       "      <th>amount</th>\n",
       "      <th>successful_payment</th>\n",
       "      <th>split_group</th>\n",
       "    </tr>\n",
       "  </thead>\n",
       "  <tbody>\n",
       "    <tr>\n",
       "      <th>count</th>\n",
       "      <td>58938.000000</td>\n",
       "      <td>58938.000000</td>\n",
       "      <td>10122.000000</td>\n",
       "      <td>10238.000000</td>\n",
       "      <td>58938.000000</td>\n",
       "    </tr>\n",
       "    <tr>\n",
       "      <th>mean</th>\n",
       "      <td>1.328617</td>\n",
       "      <td>2.989684</td>\n",
       "      <td>138.087253</td>\n",
       "      <td>0.665071</td>\n",
       "      <td>0.164291</td>\n",
       "    </tr>\n",
       "    <tr>\n",
       "      <th>std</th>\n",
       "      <td>0.741689</td>\n",
       "      <td>1.203772</td>\n",
       "      <td>83.758981</td>\n",
       "      <td>0.471989</td>\n",
       "      <td>0.370543</td>\n",
       "    </tr>\n",
       "    <tr>\n",
       "      <th>min</th>\n",
       "      <td>1.000000</td>\n",
       "      <td>1.000000</td>\n",
       "      <td>20.145000</td>\n",
       "      <td>0.000000</td>\n",
       "      <td>0.000000</td>\n",
       "    </tr>\n",
       "    <tr>\n",
       "      <th>25%</th>\n",
       "      <td>1.000000</td>\n",
       "      <td>2.000000</td>\n",
       "      <td>43.470000</td>\n",
       "      <td>0.000000</td>\n",
       "      <td>0.000000</td>\n",
       "    </tr>\n",
       "    <tr>\n",
       "      <th>50%</th>\n",
       "      <td>1.000000</td>\n",
       "      <td>3.000000</td>\n",
       "      <td>104.170000</td>\n",
       "      <td>1.000000</td>\n",
       "      <td>0.000000</td>\n",
       "    </tr>\n",
       "    <tr>\n",
       "      <th>75%</th>\n",
       "      <td>1.000000</td>\n",
       "      <td>4.000000</td>\n",
       "      <td>194.930000</td>\n",
       "      <td>1.000000</td>\n",
       "      <td>0.000000</td>\n",
       "    </tr>\n",
       "    <tr>\n",
       "      <th>max</th>\n",
       "      <td>4.000000</td>\n",
       "      <td>5.000000</td>\n",
       "      <td>335.340000</td>\n",
       "      <td>1.000000</td>\n",
       "      <td>1.000000</td>\n",
       "    </tr>\n",
       "  </tbody>\n",
       "</table>\n",
       "</div>\n",
       "      <button class=\"colab-df-convert\" onclick=\"convertToInteractive('df-77a2a0f3-fffa-41f9-9e6b-975baad0b26b')\"\n",
       "              title=\"Convert this dataframe to an interactive table.\"\n",
       "              style=\"display:none;\">\n",
       "        \n",
       "  <svg xmlns=\"http://www.w3.org/2000/svg\" height=\"24px\"viewBox=\"0 0 24 24\"\n",
       "       width=\"24px\">\n",
       "    <path d=\"M0 0h24v24H0V0z\" fill=\"none\"/>\n",
       "    <path d=\"M18.56 5.44l.94 2.06.94-2.06 2.06-.94-2.06-.94-.94-2.06-.94 2.06-2.06.94zm-11 1L8.5 8.5l.94-2.06 2.06-.94-2.06-.94L8.5 2.5l-.94 2.06-2.06.94zm10 10l.94 2.06.94-2.06 2.06-.94-2.06-.94-.94-2.06-.94 2.06-2.06.94z\"/><path d=\"M17.41 7.96l-1.37-1.37c-.4-.4-.92-.59-1.43-.59-.52 0-1.04.2-1.43.59L10.3 9.45l-7.72 7.72c-.78.78-.78 2.05 0 2.83L4 21.41c.39.39.9.59 1.41.59.51 0 1.02-.2 1.41-.59l7.78-7.78 2.81-2.81c.8-.78.8-2.07 0-2.86zM5.41 20L4 18.59l7.72-7.72 1.47 1.35L5.41 20z\"/>\n",
       "  </svg>\n",
       "      </button>\n",
       "      \n",
       "  <style>\n",
       "    .colab-df-container {\n",
       "      display:flex;\n",
       "      flex-wrap:wrap;\n",
       "      gap: 12px;\n",
       "    }\n",
       "\n",
       "    .colab-df-convert {\n",
       "      background-color: #E8F0FE;\n",
       "      border: none;\n",
       "      border-radius: 50%;\n",
       "      cursor: pointer;\n",
       "      display: none;\n",
       "      fill: #1967D2;\n",
       "      height: 32px;\n",
       "      padding: 0 0 0 0;\n",
       "      width: 32px;\n",
       "    }\n",
       "\n",
       "    .colab-df-convert:hover {\n",
       "      background-color: #E2EBFA;\n",
       "      box-shadow: 0px 1px 2px rgba(60, 64, 67, 0.3), 0px 1px 3px 1px rgba(60, 64, 67, 0.15);\n",
       "      fill: #174EA6;\n",
       "    }\n",
       "\n",
       "    [theme=dark] .colab-df-convert {\n",
       "      background-color: #3B4455;\n",
       "      fill: #D2E3FC;\n",
       "    }\n",
       "\n",
       "    [theme=dark] .colab-df-convert:hover {\n",
       "      background-color: #434B5C;\n",
       "      box-shadow: 0px 1px 3px 1px rgba(0, 0, 0, 0.15);\n",
       "      filter: drop-shadow(0px 1px 2px rgba(0, 0, 0, 0.3));\n",
       "      fill: #FFFFFF;\n",
       "    }\n",
       "  </style>\n",
       "\n",
       "      <script>\n",
       "        const buttonEl =\n",
       "          document.querySelector('#df-77a2a0f3-fffa-41f9-9e6b-975baad0b26b button.colab-df-convert');\n",
       "        buttonEl.style.display =\n",
       "          google.colab.kernel.accessAllowed ? 'block' : 'none';\n",
       "\n",
       "        async function convertToInteractive(key) {\n",
       "          const element = document.querySelector('#df-77a2a0f3-fffa-41f9-9e6b-975baad0b26b');\n",
       "          const dataTable =\n",
       "            await google.colab.kernel.invokeFunction('convertToInteractive',\n",
       "                                                     [key], {});\n",
       "          if (!dataTable) return;\n",
       "\n",
       "          const docLinkHtml = 'Like what you see? Visit the ' +\n",
       "            '<a target=\"_blank\" href=https://colab.research.google.com/notebooks/data_table.ipynb>data table notebook</a>'\n",
       "            + ' to learn more about interactive tables.';\n",
       "          element.innerHTML = '';\n",
       "          dataTable['output_type'] = 'display_data';\n",
       "          await google.colab.output.renderOutput(dataTable, element);\n",
       "          const docLink = document.createElement('div');\n",
       "          docLink.innerHTML = docLinkHtml;\n",
       "          element.appendChild(docLink);\n",
       "        }\n",
       "      </script>\n",
       "    </div>\n",
       "  </div>\n",
       "  "
      ],
      "text/plain": [
       "       country_group     age_group        amount  successful_payment  \\\n",
       "count   58938.000000  58938.000000  10122.000000        10238.000000   \n",
       "mean        1.328617      2.989684    138.087253            0.665071   \n",
       "std         0.741689      1.203772     83.758981            0.471989   \n",
       "min         1.000000      1.000000     20.145000            0.000000   \n",
       "25%         1.000000      2.000000     43.470000            0.000000   \n",
       "50%         1.000000      3.000000    104.170000            1.000000   \n",
       "75%         1.000000      4.000000    194.930000            1.000000   \n",
       "max         4.000000      5.000000    335.340000            1.000000   \n",
       "\n",
       "        split_group  \n",
       "count  58938.000000  \n",
       "mean       0.164291  \n",
       "std        0.370543  \n",
       "min        0.000000  \n",
       "25%        0.000000  \n",
       "50%        0.000000  \n",
       "75%        0.000000  \n",
       "max        1.000000  "
      ]
     },
     "execution_count": 4,
     "metadata": {},
     "output_type": "execute_result"
    }
   ],
   "source": [
    "df.describe()"
   ]
  },
  {
   "cell_type": "markdown",
   "metadata": {
    "id": "cWrvUbqNCgms",
    "pycharm": {
     "name": "#%% md\n"
    }
   },
   "source": [
    "The earliest registered user in test group (split_group == 1)"
   ]
  },
  {
   "cell_type": "code",
   "execution_count": null,
   "metadata": {
    "colab": {
     "base_uri": "https://localhost:8080/",
     "height": 36
    },
    "id": "IduG3qTYB21y",
    "outputId": "0756fa65-2793-4069-a82f-b14437f4cb16",
    "pycharm": {
     "name": "#%%\n"
    }
   },
   "outputs": [
    {
     "data": {
      "application/vnd.google.colaboratory.intrinsic+json": {
       "type": "string"
      },
      "text/plain": [
       "'2021-07-23 14:17:49'"
      ]
     },
     "execution_count": 5,
     "metadata": {},
     "output_type": "execute_result"
    }
   ],
   "source": [
    "df[df['split_group'] == 1]['date_reg'].min()"
   ]
  },
  {
   "cell_type": "code",
   "execution_count": null,
   "metadata": {
    "id": "yVTtByRLPSPO",
    "pycharm": {
     "name": "#%%\n"
    }
   },
   "outputs": [],
   "source": [
    "df['date_reg'] = pd.to_datetime(df['date_reg'], format='%Y-%m-%d').dt.date"
   ]
  },
  {
   "cell_type": "markdown",
   "metadata": {
    "id": "D5ahEnlByBey",
    "pycharm": {
     "name": "#%% md\n"
    }
   },
   "source": [
    "Let's see how many not-null values do we have in each group"
   ]
  },
  {
   "cell_type": "code",
   "execution_count": null,
   "metadata": {
    "colab": {
     "base_uri": "https://localhost:8080/",
     "height": 143
    },
    "id": "c1zW0y6vCP9l",
    "outputId": "c69796a5-fdfe-42fd-ba98-ac7c2a8a76e0",
    "pycharm": {
     "name": "#%%\n"
    }
   },
   "outputs": [
    {
     "data": {
      "text/html": [
       "\n",
       "  <div id=\"df-2f763a73-bb08-4601-aa81-fe1bfb3dd0f7\">\n",
       "    <div class=\"colab-df-container\">\n",
       "      <div>\n",
       "<style scoped>\n",
       "    .dataframe tbody tr th:only-of-type {\n",
       "        vertical-align: middle;\n",
       "    }\n",
       "\n",
       "    .dataframe tbody tr th {\n",
       "        vertical-align: top;\n",
       "    }\n",
       "\n",
       "    .dataframe thead th {\n",
       "        text-align: right;\n",
       "    }\n",
       "</style>\n",
       "<table border=\"1\" class=\"dataframe\">\n",
       "  <thead>\n",
       "    <tr style=\"text-align: right;\">\n",
       "      <th></th>\n",
       "      <th>id_user</th>\n",
       "      <th>gender</th>\n",
       "      <th>date_reg</th>\n",
       "      <th>platform</th>\n",
       "      <th>id_traffic_source</th>\n",
       "      <th>country_group</th>\n",
       "      <th>age_group</th>\n",
       "      <th>system</th>\n",
       "      <th>date_payment</th>\n",
       "      <th>method</th>\n",
       "      <th>amount</th>\n",
       "      <th>successful_payment</th>\n",
       "    </tr>\n",
       "    <tr>\n",
       "      <th>split_group</th>\n",
       "      <th></th>\n",
       "      <th></th>\n",
       "      <th></th>\n",
       "      <th></th>\n",
       "      <th></th>\n",
       "      <th></th>\n",
       "      <th></th>\n",
       "      <th></th>\n",
       "      <th></th>\n",
       "      <th></th>\n",
       "      <th></th>\n",
       "      <th></th>\n",
       "    </tr>\n",
       "  </thead>\n",
       "  <tbody>\n",
       "    <tr>\n",
       "      <th>0</th>\n",
       "      <td>49255</td>\n",
       "      <td>49255</td>\n",
       "      <td>49255</td>\n",
       "      <td>49255</td>\n",
       "      <td>49255</td>\n",
       "      <td>49255</td>\n",
       "      <td>49255</td>\n",
       "      <td>49255</td>\n",
       "      <td>8768</td>\n",
       "      <td>8768</td>\n",
       "      <td>8658</td>\n",
       "      <td>8768</td>\n",
       "    </tr>\n",
       "    <tr>\n",
       "      <th>1</th>\n",
       "      <td>9683</td>\n",
       "      <td>9683</td>\n",
       "      <td>9683</td>\n",
       "      <td>9683</td>\n",
       "      <td>9683</td>\n",
       "      <td>9683</td>\n",
       "      <td>9683</td>\n",
       "      <td>9683</td>\n",
       "      <td>1470</td>\n",
       "      <td>1470</td>\n",
       "      <td>1464</td>\n",
       "      <td>1470</td>\n",
       "    </tr>\n",
       "  </tbody>\n",
       "</table>\n",
       "</div>\n",
       "      <button class=\"colab-df-convert\" onclick=\"convertToInteractive('df-2f763a73-bb08-4601-aa81-fe1bfb3dd0f7')\"\n",
       "              title=\"Convert this dataframe to an interactive table.\"\n",
       "              style=\"display:none;\">\n",
       "        \n",
       "  <svg xmlns=\"http://www.w3.org/2000/svg\" height=\"24px\"viewBox=\"0 0 24 24\"\n",
       "       width=\"24px\">\n",
       "    <path d=\"M0 0h24v24H0V0z\" fill=\"none\"/>\n",
       "    <path d=\"M18.56 5.44l.94 2.06.94-2.06 2.06-.94-2.06-.94-.94-2.06-.94 2.06-2.06.94zm-11 1L8.5 8.5l.94-2.06 2.06-.94-2.06-.94L8.5 2.5l-.94 2.06-2.06.94zm10 10l.94 2.06.94-2.06 2.06-.94-2.06-.94-.94-2.06-.94 2.06-2.06.94z\"/><path d=\"M17.41 7.96l-1.37-1.37c-.4-.4-.92-.59-1.43-.59-.52 0-1.04.2-1.43.59L10.3 9.45l-7.72 7.72c-.78.78-.78 2.05 0 2.83L4 21.41c.39.39.9.59 1.41.59.51 0 1.02-.2 1.41-.59l7.78-7.78 2.81-2.81c.8-.78.8-2.07 0-2.86zM5.41 20L4 18.59l7.72-7.72 1.47 1.35L5.41 20z\"/>\n",
       "  </svg>\n",
       "      </button>\n",
       "      \n",
       "  <style>\n",
       "    .colab-df-container {\n",
       "      display:flex;\n",
       "      flex-wrap:wrap;\n",
       "      gap: 12px;\n",
       "    }\n",
       "\n",
       "    .colab-df-convert {\n",
       "      background-color: #E8F0FE;\n",
       "      border: none;\n",
       "      border-radius: 50%;\n",
       "      cursor: pointer;\n",
       "      display: none;\n",
       "      fill: #1967D2;\n",
       "      height: 32px;\n",
       "      padding: 0 0 0 0;\n",
       "      width: 32px;\n",
       "    }\n",
       "\n",
       "    .colab-df-convert:hover {\n",
       "      background-color: #E2EBFA;\n",
       "      box-shadow: 0px 1px 2px rgba(60, 64, 67, 0.3), 0px 1px 3px 1px rgba(60, 64, 67, 0.15);\n",
       "      fill: #174EA6;\n",
       "    }\n",
       "\n",
       "    [theme=dark] .colab-df-convert {\n",
       "      background-color: #3B4455;\n",
       "      fill: #D2E3FC;\n",
       "    }\n",
       "\n",
       "    [theme=dark] .colab-df-convert:hover {\n",
       "      background-color: #434B5C;\n",
       "      box-shadow: 0px 1px 3px 1px rgba(0, 0, 0, 0.15);\n",
       "      filter: drop-shadow(0px 1px 2px rgba(0, 0, 0, 0.3));\n",
       "      fill: #FFFFFF;\n",
       "    }\n",
       "  </style>\n",
       "\n",
       "      <script>\n",
       "        const buttonEl =\n",
       "          document.querySelector('#df-2f763a73-bb08-4601-aa81-fe1bfb3dd0f7 button.colab-df-convert');\n",
       "        buttonEl.style.display =\n",
       "          google.colab.kernel.accessAllowed ? 'block' : 'none';\n",
       "\n",
       "        async function convertToInteractive(key) {\n",
       "          const element = document.querySelector('#df-2f763a73-bb08-4601-aa81-fe1bfb3dd0f7');\n",
       "          const dataTable =\n",
       "            await google.colab.kernel.invokeFunction('convertToInteractive',\n",
       "                                                     [key], {});\n",
       "          if (!dataTable) return;\n",
       "\n",
       "          const docLinkHtml = 'Like what you see? Visit the ' +\n",
       "            '<a target=\"_blank\" href=https://colab.research.google.com/notebooks/data_table.ipynb>data table notebook</a>'\n",
       "            + ' to learn more about interactive tables.';\n",
       "          element.innerHTML = '';\n",
       "          dataTable['output_type'] = 'display_data';\n",
       "          await google.colab.output.renderOutput(dataTable, element);\n",
       "          const docLink = document.createElement('div');\n",
       "          docLink.innerHTML = docLinkHtml;\n",
       "          element.appendChild(docLink);\n",
       "        }\n",
       "      </script>\n",
       "    </div>\n",
       "  </div>\n",
       "  "
      ],
      "text/plain": [
       "             id_user  gender  date_reg  platform  id_traffic_source  \\\n",
       "split_group                                                           \n",
       "0              49255   49255     49255     49255              49255   \n",
       "1               9683    9683      9683      9683               9683   \n",
       "\n",
       "             country_group  age_group  system  date_payment  method  amount  \\\n",
       "split_group                                                                   \n",
       "0                    49255      49255   49255          8768    8768    8658   \n",
       "1                     9683       9683    9683          1470    1470    1464   \n",
       "\n",
       "             successful_payment  \n",
       "split_group                      \n",
       "0                          8768  \n",
       "1                          1470  "
      ]
     },
     "execution_count": 7,
     "metadata": {},
     "output_type": "execute_result"
    }
   ],
   "source": [
    "df.groupby(['split_group']).count()"
   ]
  },
  {
   "cell_type": "code",
   "execution_count": null,
   "metadata": {
    "colab": {
     "base_uri": "https://localhost:8080/",
     "height": 49
    },
    "id": "Y_F3SbbhD1Ge",
    "outputId": "e753d4ab-4c7a-4684-fc24-c218ddf2481a",
    "pycharm": {
     "name": "#%%\n"
    }
   },
   "outputs": [
    {
     "data": {
      "text/html": [
       "\n",
       "  <div id=\"df-077028c2-b857-4b61-b0de-534e31c17fab\">\n",
       "    <div class=\"colab-df-container\">\n",
       "      <div>\n",
       "<style scoped>\n",
       "    .dataframe tbody tr th:only-of-type {\n",
       "        vertical-align: middle;\n",
       "    }\n",
       "\n",
       "    .dataframe tbody tr th {\n",
       "        vertical-align: top;\n",
       "    }\n",
       "\n",
       "    .dataframe thead th {\n",
       "        text-align: right;\n",
       "    }\n",
       "</style>\n",
       "<table border=\"1\" class=\"dataframe\">\n",
       "  <thead>\n",
       "    <tr style=\"text-align: right;\">\n",
       "      <th></th>\n",
       "      <th>id_user</th>\n",
       "      <th>gender</th>\n",
       "      <th>date_reg</th>\n",
       "      <th>platform</th>\n",
       "      <th>id_traffic_source</th>\n",
       "      <th>country_group</th>\n",
       "      <th>age_group</th>\n",
       "      <th>system</th>\n",
       "      <th>date_payment</th>\n",
       "      <th>method</th>\n",
       "      <th>amount</th>\n",
       "      <th>successful_payment</th>\n",
       "      <th>split_group</th>\n",
       "    </tr>\n",
       "  </thead>\n",
       "  <tbody>\n",
       "  </tbody>\n",
       "</table>\n",
       "</div>\n",
       "      <button class=\"colab-df-convert\" onclick=\"convertToInteractive('df-077028c2-b857-4b61-b0de-534e31c17fab')\"\n",
       "              title=\"Convert this dataframe to an interactive table.\"\n",
       "              style=\"display:none;\">\n",
       "        \n",
       "  <svg xmlns=\"http://www.w3.org/2000/svg\" height=\"24px\"viewBox=\"0 0 24 24\"\n",
       "       width=\"24px\">\n",
       "    <path d=\"M0 0h24v24H0V0z\" fill=\"none\"/>\n",
       "    <path d=\"M18.56 5.44l.94 2.06.94-2.06 2.06-.94-2.06-.94-.94-2.06-.94 2.06-2.06.94zm-11 1L8.5 8.5l.94-2.06 2.06-.94-2.06-.94L8.5 2.5l-.94 2.06-2.06.94zm10 10l.94 2.06.94-2.06 2.06-.94-2.06-.94-.94-2.06-.94 2.06-2.06.94z\"/><path d=\"M17.41 7.96l-1.37-1.37c-.4-.4-.92-.59-1.43-.59-.52 0-1.04.2-1.43.59L10.3 9.45l-7.72 7.72c-.78.78-.78 2.05 0 2.83L4 21.41c.39.39.9.59 1.41.59.51 0 1.02-.2 1.41-.59l7.78-7.78 2.81-2.81c.8-.78.8-2.07 0-2.86zM5.41 20L4 18.59l7.72-7.72 1.47 1.35L5.41 20z\"/>\n",
       "  </svg>\n",
       "      </button>\n",
       "      \n",
       "  <style>\n",
       "    .colab-df-container {\n",
       "      display:flex;\n",
       "      flex-wrap:wrap;\n",
       "      gap: 12px;\n",
       "    }\n",
       "\n",
       "    .colab-df-convert {\n",
       "      background-color: #E8F0FE;\n",
       "      border: none;\n",
       "      border-radius: 50%;\n",
       "      cursor: pointer;\n",
       "      display: none;\n",
       "      fill: #1967D2;\n",
       "      height: 32px;\n",
       "      padding: 0 0 0 0;\n",
       "      width: 32px;\n",
       "    }\n",
       "\n",
       "    .colab-df-convert:hover {\n",
       "      background-color: #E2EBFA;\n",
       "      box-shadow: 0px 1px 2px rgba(60, 64, 67, 0.3), 0px 1px 3px 1px rgba(60, 64, 67, 0.15);\n",
       "      fill: #174EA6;\n",
       "    }\n",
       "\n",
       "    [theme=dark] .colab-df-convert {\n",
       "      background-color: #3B4455;\n",
       "      fill: #D2E3FC;\n",
       "    }\n",
       "\n",
       "    [theme=dark] .colab-df-convert:hover {\n",
       "      background-color: #434B5C;\n",
       "      box-shadow: 0px 1px 3px 1px rgba(0, 0, 0, 0.15);\n",
       "      filter: drop-shadow(0px 1px 2px rgba(0, 0, 0, 0.3));\n",
       "      fill: #FFFFFF;\n",
       "    }\n",
       "  </style>\n",
       "\n",
       "      <script>\n",
       "        const buttonEl =\n",
       "          document.querySelector('#df-077028c2-b857-4b61-b0de-534e31c17fab button.colab-df-convert');\n",
       "        buttonEl.style.display =\n",
       "          google.colab.kernel.accessAllowed ? 'block' : 'none';\n",
       "\n",
       "        async function convertToInteractive(key) {\n",
       "          const element = document.querySelector('#df-077028c2-b857-4b61-b0de-534e31c17fab');\n",
       "          const dataTable =\n",
       "            await google.colab.kernel.invokeFunction('convertToInteractive',\n",
       "                                                     [key], {});\n",
       "          if (!dataTable) return;\n",
       "\n",
       "          const docLinkHtml = 'Like what you see? Visit the ' +\n",
       "            '<a target=\"_blank\" href=https://colab.research.google.com/notebooks/data_table.ipynb>data table notebook</a>'\n",
       "            + ' to learn more about interactive tables.';\n",
       "          element.innerHTML = '';\n",
       "          dataTable['output_type'] = 'display_data';\n",
       "          await google.colab.output.renderOutput(dataTable, element);\n",
       "          const docLink = document.createElement('div');\n",
       "          docLink.innerHTML = docLinkHtml;\n",
       "          element.appendChild(docLink);\n",
       "        }\n",
       "      </script>\n",
       "    </div>\n",
       "  </div>\n",
       "  "
      ],
      "text/plain": [
       "Empty DataFrame\n",
       "Columns: [id_user, gender, date_reg, platform, id_traffic_source, country_group, age_group, system, date_payment, method, amount, successful_payment, split_group]\n",
       "Index: []"
      ]
     },
     "execution_count": 8,
     "metadata": {},
     "output_type": "execute_result"
    }
   ],
   "source": [
    "df[(df['successful_payment']==True) & pd.isna(df['amount'])]"
   ]
  },
  {
   "cell_type": "markdown",
   "metadata": {
    "id": "cQSASF-iHcBD",
    "pycharm": {
     "name": "#%% md\n"
    }
   },
   "source": [
    "Let's say we'd like to check if the total number of purchases has incresed in the test group (group with the new UI). For this purpose, let us use Normal approximation for Binomial distribution (z-test) for the following hypothoses set:\n",
    "\n",
    "$ H_0: p_1 \\leq p_0, $\n",
    "\n",
    "$ H_1: p_1 > p_0 $\n",
    "\n",
    "where $ p_1 $ -- conversion rate for test group (split_group == 1),\n",
    "\n",
    "$ p_0 $ -- conversion rate for regular group (split_group == 0)\n"
   ]
  },
  {
   "cell_type": "code",
   "execution_count": null,
   "metadata": {
    "id": "O0ItaUm0fkmq",
    "pycharm": {
     "name": "#%%\n"
    }
   },
   "outputs": [],
   "source": [
    "df = df[df['date_reg'] >= date.fromisoformat('2021-07-24')]"
   ]
  },
  {
   "cell_type": "markdown",
   "metadata": {
    "id": "fw3xILq6UCxm",
    "pycharm": {
     "name": "#%% md\n"
    }
   },
   "source": [
    "Check how many users occured more than once in the dataset"
   ]
  },
  {
   "cell_type": "code",
   "execution_count": null,
   "metadata": {
    "colab": {
     "base_uri": "https://localhost:8080/"
    },
    "id": "iQ0WG2x6T-kl",
    "outputId": "4e3c31ae-3c66-44ba-b8e0-4c1d1dbdc3c9",
    "pycharm": {
     "name": "#%%\n"
    }
   },
   "outputs": [
    {
     "name": "stdout",
     "output_type": "stream",
     "text": [
      "There are 369 users that appear multiple times in the dataset ~ 1.9 % of the whole dataset\n"
     ]
    }
   ],
   "source": [
    "session_counts = df['id_user'].value_counts(ascending=False)\n",
    "multi_users = session_counts[session_counts > 1].count()\n",
    "\n",
    "print(f'There are {multi_users} users that appear multiple times in the dataset ~ {round(100 * multi_users / df.shape[0], 2)} % of the whole dataset')"
   ]
  },
  {
   "cell_type": "markdown",
   "metadata": {
    "id": "R25x34R0UL78",
    "pycharm": {
     "name": "#%% md\n"
    }
   },
   "source": [
    "Since 369 is under 2% of the whole dataset, I assume we can just remove those users from the dataset"
   ]
  },
  {
   "cell_type": "code",
   "execution_count": null,
   "metadata": {
    "id": "U2u2n7YFU4Ub",
    "pycharm": {
     "name": "#%%\n"
    }
   },
   "outputs": [],
   "source": [
    "# users_to_drop = session_counts[session_counts > 1].index\n",
    "\n",
    "# df = df[~df['id_user'].isin(users_to_drop)]\n",
    "# print(f'The updated dataset now has {df.shape[0]} entries')"
   ]
  },
  {
   "cell_type": "code",
   "execution_count": null,
   "metadata": {
    "id": "NSqEZCv-FY9J",
    "pycharm": {
     "name": "#%%\n"
    }
   },
   "outputs": [],
   "source": [
    "df_group_1 = df[(df['split_group'] == 1) & (df['date_reg'] >= date.fromisoformat('2021-07-24'))]\n",
    "df_group_0 = df[(df['split_group'] == 0) & (df['date_reg'] >= date.fromisoformat('2021-07-24'))]"
   ]
  },
  {
   "cell_type": "code",
   "execution_count": null,
   "metadata": {
    "colab": {
     "base_uri": "https://localhost:8080/"
    },
    "id": "quFiebf9O9uZ",
    "outputId": "1491089b-bbcb-4dd8-c808-750511c75879",
    "pycharm": {
     "name": "#%%\n"
    }
   },
   "outputs": [
    {
     "name": "stdout",
     "output_type": "stream",
     "text": [
      "Regular group size: 9779, test group size: 9618\n"
     ]
    }
   ],
   "source": [
    "n_elems_0 = df_group_0.shape[0]\n",
    "n_elems_1 = df_group_1.shape[0]\n",
    "print(f\"Regular group size: {n_elems_0}, test group size: {n_elems_1}\")"
   ]
  },
  {
   "cell_type": "code",
   "execution_count": null,
   "metadata": {
    "id": "sBghQ-iPQ_LP",
    "pycharm": {
     "name": "#%%\n"
    }
   },
   "outputs": [],
   "source": [
    "n_purchases_0 = df_group_0[df_group_0['successful_payment'] == 1].shape[0]\n",
    "n_purchases_1 = df_group_1[df_group_1['successful_payment'] == 1].shape[0]"
   ]
  },
  {
   "cell_type": "code",
   "execution_count": null,
   "metadata": {
    "colab": {
     "base_uri": "https://localhost:8080/"
    },
    "id": "XT0WGP3zS1fE",
    "outputId": "989ec344-a0eb-403e-8168-ed27014317dc",
    "pycharm": {
     "name": "#%%\n"
    }
   },
   "outputs": [
    {
     "name": "stdout",
     "output_type": "stream",
     "text": [
      "conversion rate in regular group is 0.0961, conversion rate in test group is 0.1032\n"
     ]
    }
   ],
   "source": [
    "conversion_rate_0 = n_purchases_0 / n_elems_0\n",
    "conversion_rate_1 = n_purchases_1 / n_elems_1\n",
    "print(f\"conversion rate in regular group is {conversion_rate_0:0.4f}, conversion rate in test group is {conversion_rate_1:0.4f}\")"
   ]
  },
  {
   "cell_type": "code",
   "execution_count": null,
   "metadata": {
    "colab": {
     "base_uri": "https://localhost:8080/"
    },
    "id": "mVWQFehDV7TD",
    "outputId": "bce46289-0a97-4dd5-e6ea-1e48cad402f0",
    "pycharm": {
     "name": "#%%\n"
    }
   },
   "outputs": [
    {
     "name": "stdout",
     "output_type": "stream",
     "text": [
      "std_0 = 0.00298, std_1 = 0.00310\n"
     ]
    }
   ],
   "source": [
    "std_0 = np.sqrt(conversion_rate_0 * (1 - conversion_rate_0) / n_elems_0)\n",
    "std_1 = np.sqrt(conversion_rate_1 * (1 - conversion_rate_1) / n_elems_1)\n",
    "print(f\"std_0 = {std_0:0.5f}, std_1 = {std_1:0.5f}\")"
   ]
  },
  {
   "cell_type": "code",
   "execution_count": null,
   "metadata": {
    "colab": {
     "base_uri": "https://localhost:8080/"
    },
    "id": "JW1nxxvsemQy",
    "outputId": "63a466e3-2b8a-4e86-c750-baa33e163369",
    "pycharm": {
     "name": "#%%\n"
    }
   },
   "outputs": [
    {
     "name": "stdout",
     "output_type": "stream",
     "text": [
      "z-score is 1.65, with p-value 0.05\n"
     ]
    }
   ],
   "source": [
    "z_score = (conversion_rate_1 - conversion_rate_0) / np.sqrt(std_0**2 + std_1**2)\n",
    "print(f\"z-score is {z_score:0.2f}, with p-value {norm().sf(z_score):0.2f}\")"
   ]
  },
  {
   "cell_type": "markdown",
   "metadata": {
    "id": "pX6AluQtsynl",
    "pycharm": {
     "name": "#%% md\n"
    }
   },
   "source": [
    "Double-check with the proportions_ztest from statsmodels"
   ]
  },
  {
   "cell_type": "code",
   "execution_count": null,
   "metadata": {
    "id": "Z-4PDqMnkbLM",
    "pycharm": {
     "name": "#%%\n"
    }
   },
   "outputs": [],
   "source": [
    "test_stat, p_value = proportions_ztest([n_purchases_0, n_purchases_1], [n_elems_0, n_elems_1], alternative='smaller')"
   ]
  },
  {
   "cell_type": "code",
   "execution_count": null,
   "metadata": {
    "colab": {
     "base_uri": "https://localhost:8080/"
    },
    "id": "x7SitMKAmbaS",
    "outputId": "0bfed409-c70d-4684-e581-623717ec9015",
    "pycharm": {
     "name": "#%%\n"
    }
   },
   "outputs": [
    {
     "name": "stdout",
     "output_type": "stream",
     "text": [
      "Computed z-test statistic: -1.66, computed p-value: 0.05\n"
     ]
    }
   ],
   "source": [
    "print(f\"Computed z-test statistic: {test_stat:0.2f}, computed p-value: {p_value:0.2f}\")"
   ]
  },
  {
   "cell_type": "markdown",
   "metadata": {
    "id": "Q6rlOeActDHE",
    "pycharm": {
     "name": "#%% md\n"
    }
   },
   "source": [
    "Since the computed p-value is greater than (or equal to) $ a = 0.05 $, we accept $ H_0 $ hypothesis on a confidence level 0.95, which means that the conversion rate in test group increased insignificantly"
   ]
  },
  {
   "cell_type": "markdown",
   "metadata": {
    "id": "Rp6yDDl-ynh7",
    "pycharm": {
     "name": "#%% md\n"
    }
   },
   "source": [
    "Used sources:\n",
    "* https://cosmiccoding.com.au/tutorials/ab_tests\n",
    "* https://towardsdatascience.com/ab-testing-with-python-e5964dd66143\n",
    "* https://towardsdatascience.com/a-b-testing-with-binary-data-two-sample-proportions-z-test-5c222d7772ad"
   ]
  },
  {
   "attachments": {},
   "cell_type": "markdown",
   "metadata": {
    "id": "VFTQ-Rd_zQU5",
    "pycharm": {
     "name": "#%% md\n"
    }
   },
   "source": [
    "## Task 2\n",
    "\n",
    "~~Results and calculations could be found here~~ *Here used to be link to the spreadsheet with data and calculations*"
   ]
  },
  {
   "cell_type": "markdown",
   "metadata": {
    "id": "9vbCpmQvz1MN",
    "pycharm": {
     "name": "#%% md\n"
    }
   },
   "source": [
    "## Task 3.1\n",
    "\n",
    "1. Количество регистраций новых пользователей по\n",
    "дням по группам стран;\n",
    "2. % писем, кликнутых в течение 10 минут после\n",
    "отправки, по типам писем суммарно за последние 7\n",
    "суток;\n",
    "\n",
    "Таблицы:\n",
    "1. `users` — таблица с пользователями сайта:\n",
    "* `id` — уникальный идентификатор пользователя\n",
    "* `email` — строковое поле с имейлом пользователя\n",
    "* `id_country` — уникальный идентификатор страны\n",
    "(соответствует `countries`.`id `)\n",
    "* `date_reg` — дата и время регистрации пользователя\n",
    "(например, «2017-02-27 10:58:05»)\n",
    "2. `emails_sent` — таблица отправленных писем в рассылке:\n",
    "* `id` — айди отправленного письма\n",
    "* `id_user` — пользователь, которому отправили письмо\n",
    "(соответствует `users`.`id`)\n",
    "* `id_type` — тип письма\n",
    "* `date_sent` — дата и время отправки письма\n",
    "3. `emails_clicks` — таблица кликов по письмам:\n",
    "* `id` — айди клика по письму\n",
    "* `id_email` — айди письма, по которому был клик (соответствует\n",
    "`emails_sent`.`id`)\n",
    "* `date_click` — дата и время клика по письму\n",
    "4. `countries` — список стран:\n",
    "* `id` — идентификатор страны\n",
    "* `name` — название страны в человекочитаемом виде\n",
    "* `group` — к какой группе стран относится страна"
   ]
  },
  {
   "cell_type": "markdown",
   "metadata": {
    "id": "Og5mzid_7ElA",
    "pycharm": {
     "name": "#%% md\n"
    }
   },
   "source": [
    "### 1. Количество регистраций новых пользователей по дням по группам стран\n",
    "\n",
    "```\n",
    "select date(u.date_reg) date_reg,\n",
    "\t   c.country_group,\n",
    "\t   count(u.id) n_users\n",
    "from users u\n",
    "\t\tjoin countries c on u.id_country = c.id\n",
    "group by date(u.date_reg), c.country_group;\n",
    "```"
   ]
  },
  {
   "cell_type": "markdown",
   "metadata": {
    "id": "2mWoRd_UFA7d",
    "pycharm": {
     "name": "#%% md\n"
    }
   },
   "source": [
    "### 2. % писем, кликнутых в течение 10 минут после отправки, по типам писем суммарно за последние 7 суток; \n",
    "\n",
    "```\n",
    "with last_week_emails as (\n",
    "select es.id id_email,\n",
    "        es.date_sent,\n",
    "        es.id_type,\n",
    "        ec.date_click,\n",
    "      TIMESTAMPDIFF(MINUTE, es.date_sent, ec.date_click) AS min_delta\n",
    "from emails_sent es\n",
    "        left join emails_clicks ec on es.id = ec.id_email\n",
    "where date(es.date_sent) >= NOW() - INTERVAL 7 DAY\n",
    "),\n",
    "clicked_in_ten as (\n",
    "select id_type,\n",
    "        count(id_email) n_clicked \n",
    "from last_week_emails\n",
    "where min_delta <= 10\n",
    "group by id_type\n",
    "),\n",
    "total_sent as (\n",
    "select id_type, \n",
    "        count(id_email) n_sent \n",
    "from last_week_emails\n",
    "group by id_type\n",
    ")\n",
    "select ts.id_type,\n",
    "        100*n_clicked / n_sent\n",
    "from total_sent ts\n",
    "        left join clicked_in_ten ct on ts.id_type = ct.id_type;\n",
    "```"
   ]
  },
  {
   "cell_type": "markdown",
   "metadata": {
    "id": "4EdwJieg1ltk",
    "pycharm": {
     "name": "#%% md\n"
    }
   },
   "source": [
    "Done and tested with MySQL 8.0 [here](https://paiza.io/projects/bvZPSxWie7nQ8twX6My-kQ?language=mysql)\n",
    "\n",
    "\n",
    "```\n",
    "-- drop table users;\n",
    "-- drop table emails_sent;\n",
    "-- drop table emails_clicks;\n",
    "-- drop table countries;\n",
    "\n",
    "create table users (id integer, email varchar(100), id_country integer, date_reg datetime);\n",
    "insert into users (id, email, id_country, date_reg) values (1, 'albert@gmail.com', 1, '2017-02-27 10:58:05');\n",
    "insert into users (id, email, id_country, date_reg) values (2, 'albert@gmail.com', 2, '2017-03-03 10:58:05');\n",
    "insert into users (id, email, id_country, date_reg) values (3, 'albert@gmail.com', 1, '2017-03-03 10:58:05');\n",
    "insert into users (id, email, id_country, date_reg) values (4, 'albert@gmail.com', 2, '2017-03-03 10:58:05');\n",
    "insert into users (id, email, id_country, date_reg) values (5, 'albert@gmail.com', 3, '2017-03-07 10:58:05');\n",
    "select * from users;\n",
    "\n",
    "create table emails_sent (id integer, id_user integer, id_type varchar(100), date_sent datetime);\n",
    "insert into emails_sent (id, id_user, id_type, date_sent) values (1, 1, 'promo', '2022-10-29 10:58:05');\n",
    "insert into emails_sent (id, id_user, id_type, date_sent) values (2, 2, 'promo', '2022-10-30 10:58:05');\n",
    "insert into emails_sent (id, id_user, id_type, date_sent) values (3, 3, 'security', '2022-10-31 10:58:05');\n",
    "insert into emails_sent (id, id_user, id_type, date_sent) values (4, 4, 'security', '2022-10-31 10:58:05');\n",
    "insert into emails_sent (id, id_user, id_type, date_sent) values (5, 5, 'digest', '2022-10-01 10:58:05');\n",
    "\n",
    "create table emails_clicks (id integer, id_email integer, date_click datetime);\n",
    "insert into emails_clicks (id, id_email, date_click) values (1, 1, '2022-10-29 11:22:05');\n",
    "insert into emails_clicks (id, id_email, date_click) values (2, 2, '2022-10-30 10:59:05');\n",
    "insert into emails_clicks (id, id_email, date_click) values (3, 3, '2022-10-31 10:59:05');\n",
    "insert into emails_clicks (id, id_email, date_click) values (4, 4, '2022-10-31 11:01:05');\n",
    "insert into emails_clicks (id, id_email, date_click) values (5, 5, '2022-10-02 10:58:05');\n",
    "\n",
    "create table countries (id integer, name varchar(100), country_group varchar(100));\n",
    "insert into countries (id, name, country_group) values (1, 'Ukraine', 'EMEA');\n",
    "insert into countries (id, name, country_group) values (2, 'Poland', 'EU');\n",
    "insert into countries (id, name, country_group) values (3, 'US', 'North America');\n",
    "```\n",
    "\n",
    "\n",
    "\n",
    "\n"
   ]
  },
  {
   "cell_type": "markdown",
   "metadata": {
    "id": "8DL1YwPLHIfv",
    "pycharm": {
     "name": "#%% md\n"
    }
   },
   "source": [
    "## Task 3.2\n",
    "\n",
    "Дана таблица users_sessions, в которой находятся данные по\n",
    "сессиям пребывания пользователей в онлайне на продукте:\n",
    "* `id` - уникальный идентификатор сессии\n",
    "* `id_user` - уникальный идентификатор пользователя\n",
    "* `action` - поле, которое указывает на открытие или\n",
    "закрытие сессии (два возможных значения: ‘open’ и ‘close’)\n",
    "* `date_action` - таймстемп открытия/закрытия (в зависимости\n",
    "от значения в поле ‘action’) сессии пребывания в онлайне\n",
    "\n",
    "Нужно посчитать суммарное количество времени в\n",
    "неокругленных часах, которое каждый из пользователей провел\n",
    "на платформе в каждый из последних 10-ти дней (включая\n",
    "текущий день)."
   ]
  },
  {
   "attachments": {},
   "cell_type": "markdown",
   "metadata": {},
   "source": [
    "```\n",
    "WITH sessions AS (\n",
    "SELECT DISTINCT us.id_user, DATE(us.date_action) date,\n",
    "      CASE WHEN us.action = 'open' THEN us.date_action\n",
    "          WHEN us.action = 'close' THEN LAG(us.date_action,1) OVER\n",
    "          (PARTITION BY us.id_user ORDER BY us.date_action)\n",
    "      END AS session_opened,\n",
    "      CASE WHEN us.action = 'close' THEN us.date_action\n",
    "          WHEN us.action = 'open' THEN LEAD(us.date_action,1) OVER\n",
    "          (PARTITION BY us.id_user ORDER BY us.date_action)\n",
    "      END AS session_closed\n",
    "FROM users_sessions us\n",
    "WHERE us.date_action > us.date_action - 10\n",
    "),\n",
    "session_dur AS (\n",
    "SELECT s.id_user,\n",
    "      s.date,\n",
    "      s.session_opened,\n",
    "      s.session_closed,\n",
    "      TIMESTAMPDIFF(SECOND, s.session_opened, s.session_closed) session_duration_sec\n",
    "FROM sessions s\n",
    "),\n",
    "last_10_days AS (\n",
    "SELECT CURDATE() AS date\n",
    "   UNION SELECT CURDATE() - INTERVAL 1 DAY\n",
    "   UNION SELECT CURDATE() - INTERVAL 2 DAY\n",
    "   UNION SELECT CURDATE() - INTERVAL 3 DAY\n",
    "   UNION SELECT CURDATE() - INTERVAL 4 DAY\n",
    "   UNION SELECT CURDATE() - INTERVAL 5 DAY\n",
    "   UNION SELECT CURDATE() - INTERVAL 6 DAY\n",
    "   UNION SELECT CURDATE() - INTERVAL 7 DAY\n",
    "   UNION SELECT CURDATE() - INTERVAL 8 DAY\n",
    "   UNION SELECT CURDATE() - INTERVAL 9 DAY\n",
    "   UNION SELECT CURDATE() - INTERVAL 10 DAY\n",
    "),\n",
    "user_date AS (\n",
    "SELECT u.id id_user,\n",
    "       l10d.date\n",
    "FROM last_10_days l10d, users u\n",
    ")\n",
    "SELECT ud.id_user,\n",
    "       ud.date,\n",
    "       SUM(sd.session_duration_sec) / 3600 total_dur_hours,\n",
    "       sd.session_opened,\n",
    "       sd.session_closed\n",
    "FROM user_date ud\n",
    "      LEFT JOIN session_dur sd ON ud.id_user = sd.id_user AND sd.date = ud.date\n",
    "GROUP BY ud.id_user, ud.date, sd.session_opened, sd.session_closed\n",
    "ORDER BY ud.date DESC, ud.id_user;    \n",
    "```"
   ]
  },
  {
   "attachments": {},
   "cell_type": "markdown",
   "metadata": {},
   "source": [
    "```\n",
    "create table users_sessions (id integer, id_user integer, action varchar(100), date_action datetime);\n",
    "insert into users_sessions (id, id_user, action, date_action) values (1, 1, 'open', '2023-05-15 10:58:05');\n",
    "insert into users_sessions (id, id_user, action, date_action) values (2, 1, 'open', '2023-05-17 13:27:05');\n",
    "insert into users_sessions (id, id_user, action, date_action) values (3, 1, 'close', '2023-05-15 12:22:05');\n",
    "insert into users_sessions (id, id_user, action, date_action) values (4, 1, 'close', '2023-05-17 13:29:05');\n",
    "insert into users_sessions (id, id_user, action, date_action) values (5, 2, 'open', '2023-05-15 09:15:05');\n",
    "insert into users_sessions (id, id_user, action, date_action) values (6, 2, 'close', '2023-05-15 09:25:05');\n",
    "insert into users_sessions (id, id_user, action, date_action) values (7, 2, 'open', '2023-05-18 11:25:05');\n",
    "insert into users_sessions (id, id_user, action, date_action) values (8, 2, 'close', '2023-05-18 12:55:05');\n",
    "```"
   ]
  }
 ],
 "metadata": {
  "colab": {
   "collapsed_sections": [
    "Gh-z4fL0y8MV",
    "9vbCpmQvz1MN",
    "8DL1YwPLHIfv"
   ],
   "provenance": []
  },
  "kernelspec": {
   "display_name": "Python 3",
   "name": "python3"
  },
  "language_info": {
   "name": "python"
  }
 },
 "nbformat": 4,
 "nbformat_minor": 0
}
